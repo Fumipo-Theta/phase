{
 "cells": [
  {
   "cell_type": "code",
   "execution_count": 8,
   "metadata": {},
   "outputs": [],
   "source": [
    "var Liquid = require(\"./src/liquid\")"
   ]
  },
  {
   "cell_type": "code",
   "execution_count": 11,
   "metadata": {},
   "outputs": [
    {
     "data": {
      "text/plain": [
       "Liquid {\n",
       "  cationNum: {\n",
       "    SiO2: 1,\n",
       "    TiO2: 1,\n",
       "    Al2O3: 2,\n",
       "    FeO: 1,\n",
       "    Fe2O3: 2,\n",
       "    MgO: 1,\n",
       "    CaO: 1,\n",
       "    Na2O: 2,\n",
       "    K2O: 2,\n",
       "    P2O5: 2,\n",
       "    MnO: 2,\n",
       "    Cr2O3: 2,\n",
       "    NiO: 1,\n",
       "    H2O: 2\n",
       "  },\n",
       "  molarValue: {\n",
       "    SiO2: 60.06,\n",
       "    TiO2: 79.9,\n",
       "    Al2O3: 101.94,\n",
       "    FeO: 71.84,\n",
       "    MgO: 40.32,\n",
       "    Fe2O3: 159.69,\n",
       "    CaO: 56.08,\n",
       "    Na2O: 61.99,\n",
       "    K2O: 94.2,\n",
       "    P2O5: 141.94,\n",
       "    MnO: 70.94,\n",
       "    Cr2O3: 151.99,\n",
       "    NiO: 74.69,\n",
       "    H2O: 18\n",
       "  },\n",
       "  majorList: [\n",
       "    'SiO2', 'TiO2',  'Al2O3',\n",
       "    'FeO',  'Fe2O3', 'MgO',\n",
       "    'CaO',  'Na2O',  'K2O',\n",
       "    'P2O5', 'MnO',   'Cr2O3',\n",
       "    'NiO',  'H2O'\n",
       "  ],\n",
       "  traceList: [],\n",
       "  optionalProperty: [ 'F', 'T', 'N', 'P', 'x' ],\n",
       "  name: 'melt',\n",
       "  fFe2: 1,\n",
       "  outOfRange: false\n",
       "}"
      ]
     },
     "execution_count": 11,
     "metadata": {},
     "output_type": "execute_result"
    }
   ],
   "source": [
    "melt = new Liquid(\"melt\")\n",
    "melt"
   ]
  },
  {
   "cell_type": "code",
   "execution_count": null,
   "metadata": {},
   "outputs": [],
   "source": []
  }
 ],
 "metadata": {
  "kernelspec": {
   "display_name": "Javascript (Node.js)",
   "language": "javascript",
   "name": "javascript"
  },
  "language_info": {
   "file_extension": ".js",
   "mimetype": "application/javascript",
   "name": "javascript",
   "version": "12.6.0"
  }
 },
 "nbformat": 4,
 "nbformat_minor": 4
}
