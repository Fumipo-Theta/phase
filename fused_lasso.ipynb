{
 "cells": [
  {
   "cell_type": "markdown",
   "metadata": {},
   "source": [
    "# Fused lasso法で累帯構造の不連続変化点を検出する\n",
    "\n",
    "1. データセット読み込み\n",
    "1. 解析粒子を切り出し\n",
    "1. fused lasso \n",
    "\n",
    "Fused lasso: データ数とパラメータ数が等しい. 隣り合うパラメータの差が小さくなるようにフィッティングを行う. \n",
    "\n",
    "$$\n",
    "    argmin\\left[ \\sum^N_{i=1}\\left(y_i - \\beta_i \\right)^2 + \\lambda \\sum^{N-1}_{i=1}\\left( \\left|\\beta_{j+1} - \\beta_j\\right| \\right) \\right]\n",
    "$$\n",
    "\n",
    "このような正則化項の場合, 回帰の目的関数はステップ関数を想定することになる.\n",
    "\n",
    "1次関数が連結したような折れ線グラフへの回帰を行うには, 例えば正則化項を\n",
    "\n",
    "$$\n",
    "    \\lambda\\sum\\left|\\frac{1}{2} \\left(\\beta_{j+1} + \\beta_{j-1}\\right) - \\beta_j \\right|\n",
    "$$\n",
    "\n",
    "とすればよい\n",
    "\n",
    "### 参考\n",
    "\n",
    "- [genlasso document](../../../ドキュメント/Articles/Machine_learning/genlasso_documents.pdf)"
   ]
  },
  {
   "cell_type": "code",
   "execution_count": 15,
   "metadata": {},
   "outputs": [],
   "source": [
    "library(genlasso)\n",
    "library(dplyr)\n",
    "library(tidyr)\n",
    "library(broom)\n",
    "library(purrr)\n",
    "\n",
    "# 所与のデータ(ys)に関数(func)を適用しつつ, データysそのものを返す関数\n",
    "tee <- function(ys,func){\n",
    "    func(ys)\n",
    "    return (ys)\n",
    "}\n",
    "\n",
    "getColumn <- function(df,columnName){\n",
    "    return(df[columnName])\n",
    "}"
   ]
  },
  {
   "cell_type": "markdown",
   "metadata": {},
   "source": [
    "## Demo"
   ]
  },
  {
   "cell_type": "code",
   "execution_count": 13,
   "metadata": {},
   "outputs": [
    {
     "name": "stdout",
     "output_type": "stream",
     "text": [
      " [1] 7 6 5 3 7 3 3 9 6 5\n",
      " [1] 2 2 2 2 2 2 2 2 2 2\n"
     ]
    }
   ],
   "source": [
    "print(sample(1:10,10,replace=TRUE)) \n",
    "print(rep(2,each=n/10))\n"
   ]
  },
  {
   "cell_type": "code",
   "execution_count": 7,
   "metadata": {
    "scrolled": false
   },
   "outputs": [
    {
     "name": "stdout",
     "output_type": "stream",
     "text": [
      "Fold 1 ... Fold 2 ... Fold 3 ... Fold 4 ... Fold 5 ... \n",
      "[1] 0.1266858\n"
     ]
    },
    {
     "data": {
      "image/png": "[encoded data removed]",
      "text/plain": [
       "plot without title"
      ]
     },
     "metadata": {},
     "output_type": "display_data"
    },
    {
     "data": {
      "image/png": "[encoded data removed]",
      "text/plain": [
       "plot without title"
      ]
     },
     "metadata": {},
     "output_type": "display_data"
    }
   ],
   "source": [
    "set.seed(71)\n",
    "n <- 20\n",
    "beta.true <- c(1,0.95,0.9,0.85,0.8,0.75,0.7,0.65,0.3,0.3,0.3,0.3,0.3,0.3,0.3,0.8,0.775,0.75,0.725,0.7)\n",
    "lambda <- 0.5 # λを小さくすると, スパース性が小さくなり, 元のデータに忠実になっていく\n",
    "y <- beta.true + rnorm(n,sd=0.05)\n",
    "\n",
    "y %>% \n",
    "    fusedlasso1d %>%\n",
    "    coef(lambda=lambda) %>%\n",
    "    tee(function(coef){\n",
    "        plot(1:n, y, ylim = c(-1,1))\n",
    "        lines(1:n, coef$beta)\n",
    "        lines(1:n, beta.true,col=\"red\")\n",
    "    }) %>%\n",
    "    invisible\n",
    " \n",
    "\n",
    "y %>%\n",
    "    trendfilter(ord=1) %>%\n",
    "    cv.trendfilter %>%\n",
    "    tee(function(cv){\n",
    "        print(cv$lambda.1se)\n",
    "        y %>%\n",
    "            trendfilter(ord=1) %>%\n",
    "            plot(, lambda=cv$lambda.1se,ylim = c(-1,1)) %>%\n",
    "            invisible\n",
    "    }) %>%\n",
    "    invisible"
   ]
  },
  {
   "cell_type": "markdown",
   "metadata": {},
   "source": [
    "# 斑晶の組成プロファイルに対するfused lassoの適用\n",
    "\n",
    "To detencting abrupt change of chemical profile, \n",
    "Applying fused lasso method to chemical profile of Cr in orthopyroxene phenocryst in HMA lava in the SVB.\n",
    "\n",
    "Fused lassoをそのまま使うことは, ステップ関数の復元には適しているが, 組成プロファイルのようにシグナルが位置や時間の関数になっている場合には適していない.\n",
    "\n",
    "L1正則化項を隣り合うパラメータの変化率に変えることで, \n",
    "\n",
    "## データセット\n",
    "\n",
    "Onedrive/My_log/htmls/data/SVB/mineral/EPMA/opx_zoning_compile.csv\n",
    "\n",
    "- 複数の斑晶の組成プロファイルが収められている.\n",
    "- それぞれのプロファイルは\"comment\"列の内容で区別される.\n",
    "- 中心からの半径は\"radius\"行を参照"
   ]
  },
  {
   "cell_type": "code",
   "execution_count": 2,
   "metadata": {},
   "outputs": [
    {
     "data": {
      "text/html": [
       "<ol class=list-inline>\n",
       "\t<li>1002-9-1A-4_Line1</li>\n",
       "\t<li>1002-9-1C-1_Line1</li>\n",
       "\t<li>1002-9-1D-2_Line1</li>\n",
       "\t<li>2013_0815_1002-9-1C-OpxOl-1</li>\n",
       "\t<li>2013_0815_1002-9-1C-OpxOl-2</li>\n",
       "\t<li>1002-9-1D-2</li>\n",
       "\t<li>1002-9-1D-Opx8-1</li>\n",
       "\t<li>1002-9-1D-Opx8-2</li>\n",
       "</ol>\n"
      ],
      "text/latex": [
       "\\begin{enumerate*}\n",
       "\\item 1002-9-1A-4\\_Line1\n",
       "\\item 1002-9-1C-1\\_Line1\n",
       "\\item 1002-9-1D-2\\_Line1\n",
       "\\item 2013\\_0815\\_1002-9-1C-OpxOl-1\n",
       "\\item 2013\\_0815\\_1002-9-1C-OpxOl-2\n",
       "\\item 1002-9-1D-2\n",
       "\\item 1002-9-1D-Opx8-1\n",
       "\\item 1002-9-1D-Opx8-2\n",
       "\\end{enumerate*}\n"
      ],
      "text/markdown": [
       "1. 1002-9-1A-4_Line1\n",
       "2. 1002-9-1C-1_Line1\n",
       "3. 1002-9-1D-2_Line1\n",
       "4. 2013_0815_1002-9-1C-OpxOl-1\n",
       "5. 2013_0815_1002-9-1C-OpxOl-2\n",
       "6. 1002-9-1D-2\n",
       "7. 1002-9-1D-Opx8-1\n",
       "8. 1002-9-1D-Opx8-2\n",
       "\n",
       "\n"
      ],
      "text/plain": [
       "[1] 1002-9-1A-4_Line1           1002-9-1C-1_Line1          \n",
       "[3] 1002-9-1D-2_Line1           2013_0815_1002-9-1C-OpxOl-1\n",
       "[5] 2013_0815_1002-9-1C-OpxOl-2 1002-9-1D-2                \n",
       "[7] 1002-9-1D-Opx8-1            1002-9-1D-Opx8-2           \n",
       "8 Levels: 1002-9-1A-4_Line1 1002-9-1C-1_Line1 ... 2013_0815_1002-9-1C-OpxOl-2"
      ]
     },
     "metadata": {},
     "output_type": "display_data"
    }
   ],
   "source": [
    "df <- read.csv(\"../data/SVB/mineral/EPMA/opx_zoning_compile.csv\")\n",
    "\n",
    "df$comment %>% unique"
   ]
  },
  {
   "cell_type": "markdown",
   "metadata": {},
   "source": [
    "## 1002-9-1C-1_Line1 のCrプロファイルへの適用"
   ]
  },
  {
   "cell_type": "code",
   "execution_count": 52,
   "metadata": {},
   "outputs": [
    {
     "data": {
      "text/html": [
       "<table>\n",
       "<thead><tr><th></th><th scope=col>ID</th><th scope=col>date</th><th scope=col>No</th><th scope=col>SiO2</th><th scope=col>Al2O3</th><th scope=col>TiO2</th><th scope=col>FeO</th><th scope=col>MnO</th><th scope=col>MgO</th><th scope=col>CaO</th><th scope=col>...</th><th scope=col>Total</th><th scope=col>Phase</th><th scope=col>pos</th><th scope=col>comment</th><th scope=col>distanse</th><th scope=col>radius</th><th scope=col>Fe.Mg</th><th scope=col>Mg.</th><th scope=col>stage</th><th scope=col>cordinate</th></tr></thead>\n",
       "<tbody>\n",
       "\t<tr><th scope=row>75</th><td>304              </td><td>2013_0727        </td><td>43               </td><td>55.289           </td><td>0.940            </td><td>0                </td><td>12.708           </td><td>0.343            </td><td>28.257           </td><td>1.800            </td><td>...              </td><td>99.566           </td><td>opx              </td><td>42               </td><td>1002-9-1C-1_Line1</td><td>84               </td><td>-196             </td><td>0.2524093        </td><td>79.84610         </td><td>9                </td><td>l                </td></tr>\n",
       "\t<tr><th scope=row>76</th><td>305              </td><td>2013_0727        </td><td>44               </td><td>55.196           </td><td>0.987            </td><td>0                </td><td>12.179           </td><td>0.294            </td><td>28.501           </td><td>1.625            </td><td>...              </td><td>98.994           </td><td>opx              </td><td>43               </td><td>1002-9-1C-1_Line1</td><td>86               </td><td>-194             </td><td>0.2398312        </td><td>80.65614         </td><td>9                </td><td>l                </td></tr>\n",
       "\t<tr><th scope=row>77</th><td>306              </td><td>2013_0727        </td><td>45               </td><td>55.598           </td><td>1.393            </td><td>0                </td><td>11.089           </td><td>0.265            </td><td>29.291           </td><td>1.595            </td><td>...              </td><td>99.507           </td><td>opx              </td><td>44               </td><td>1002-9-1C-1_Line1</td><td>88               </td><td>-192             </td><td>0.2124772        </td><td>82.47578         </td><td>9                </td><td>l                </td></tr>\n",
       "\t<tr><th scope=row>78</th><td>307              </td><td>2013_0727        </td><td>46               </td><td>55.543           </td><td>2.112            </td><td>0                </td><td>10.191           </td><td>0.242            </td><td>29.816           </td><td>1.369            </td><td>...              </td><td>99.652           </td><td>opx              </td><td>45               </td><td>1002-9-1C-1_Line1</td><td>90               </td><td>-190             </td><td>0.1918323        </td><td>83.90443         </td><td>9                </td><td>l                </td></tr>\n",
       "\t<tr><th scope=row>79</th><td>308              </td><td>2013_0727        </td><td>47               </td><td>55.088           </td><td>2.486            </td><td>0                </td><td> 8.715           </td><td>0.195            </td><td>30.931           </td><td>1.389            </td><td>...              </td><td>99.218           </td><td>opx              </td><td>46               </td><td>1002-9-1C-1_Line1</td><td>92               </td><td>-188             </td><td>0.1581349        </td><td>86.34573         </td><td>9                </td><td>l                </td></tr>\n",
       "</tbody>\n",
       "</table>\n"
      ],
      "text/latex": [
       "\\begin{tabular}{r|llllllllllllllllllllllll}\n",
       "  & ID & date & No & SiO2 & Al2O3 & TiO2 & FeO & MnO & MgO & CaO & ... & Total & Phase & pos & comment & distanse & radius & Fe.Mg & Mg. & stage & cordinate\\\\\n",
       "\\hline\n",
       "\t75 & 304                 & 2013\\_0727         & 43                  & 55.289              & 0.940               & 0                   & 12.708              & 0.343               & 28.257              & 1.800               & ...                 & 99.566              & opx                 & 42                  & 1002-9-1C-1\\_Line1 & 84                  & -196                & 0.2524093           & 79.84610            & 9                   & l                  \\\\\n",
       "\t76 & 305                 & 2013\\_0727         & 44                  & 55.196              & 0.987               & 0                   & 12.179              & 0.294               & 28.501              & 1.625               & ...                 & 98.994              & opx                 & 43                  & 1002-9-1C-1\\_Line1 & 86                  & -194                & 0.2398312           & 80.65614            & 9                   & l                  \\\\\n",
       "\t77 & 306                 & 2013\\_0727         & 45                  & 55.598              & 1.393               & 0                   & 11.089              & 0.265               & 29.291              & 1.595               & ...                 & 99.507              & opx                 & 44                  & 1002-9-1C-1\\_Line1 & 88                  & -192                & 0.2124772           & 82.47578            & 9                   & l                  \\\\\n",
       "\t78 & 307                 & 2013\\_0727         & 46                  & 55.543              & 2.112               & 0                   & 10.191              & 0.242               & 29.816              & 1.369               & ...                 & 99.652              & opx                 & 45                  & 1002-9-1C-1\\_Line1 & 90                  & -190                & 0.1918323           & 83.90443            & 9                   & l                  \\\\\n",
       "\t79 & 308                 & 2013\\_0727         & 47                  & 55.088              & 2.486               & 0                   &  8.715              & 0.195               & 30.931              & 1.389               & ...                 & 99.218              & opx                 & 46                  & 1002-9-1C-1\\_Line1 & 92                  & -188                & 0.1581349           & 86.34573            & 9                   & l                  \\\\\n",
       "\\end{tabular}\n"
      ],
      "text/markdown": [
       "\n",
       "| <!--/--> | ID | date | No | SiO2 | Al2O3 | TiO2 | FeO | MnO | MgO | CaO | ... | Total | Phase | pos | comment | distanse | radius | Fe.Mg | Mg. | stage | cordinate | \n",
       "|---|---|---|---|---|\n",
       "| 75 | 304               | 2013_0727         | 43                | 55.289            | 0.940             | 0                 | 12.708            | 0.343             | 28.257            | 1.800             | ...               | 99.566            | opx               | 42                | 1002-9-1C-1_Line1 | 84                | -196              | 0.2524093         | 79.84610          | 9                 | l                 | \n",
       "| 76 | 305               | 2013_0727         | 44                | 55.196            | 0.987             | 0                 | 12.179            | 0.294             | 28.501            | 1.625             | ...               | 98.994            | opx               | 43                | 1002-9-1C-1_Line1 | 86                | -194              | 0.2398312         | 80.65614          | 9                 | l                 | \n",
       "| 77 | 306               | 2013_0727         | 45                | 55.598            | 1.393             | 0                 | 11.089            | 0.265             | 29.291            | 1.595             | ...               | 99.507            | opx               | 44                | 1002-9-1C-1_Line1 | 88                | -192              | 0.2124772         | 82.47578          | 9                 | l                 | \n",
       "| 78 | 307               | 2013_0727         | 46                | 55.543            | 2.112             | 0                 | 10.191            | 0.242             | 29.816            | 1.369             | ...               | 99.652            | opx               | 45                | 1002-9-1C-1_Line1 | 90                | -190              | 0.1918323         | 83.90443          | 9                 | l                 | \n",
       "| 79 | 308               | 2013_0727         | 47                | 55.088            | 2.486             | 0                 |  8.715            | 0.195             | 30.931            | 1.389             | ...               | 99.218            | opx               | 46                | 1002-9-1C-1_Line1 | 92                | -188              | 0.1581349         | 86.34573          | 9                 | l                 | \n",
       "\n",
       "\n"
      ],
      "text/plain": [
       "   ID  date      No SiO2   Al2O3 TiO2 FeO    MnO   MgO    CaO   ... Total \n",
       "75 304 2013_0727 43 55.289 0.940 0    12.708 0.343 28.257 1.800 ... 99.566\n",
       "76 305 2013_0727 44 55.196 0.987 0    12.179 0.294 28.501 1.625 ... 98.994\n",
       "77 306 2013_0727 45 55.598 1.393 0    11.089 0.265 29.291 1.595 ... 99.507\n",
       "78 307 2013_0727 46 55.543 2.112 0    10.191 0.242 29.816 1.369 ... 99.652\n",
       "79 308 2013_0727 47 55.088 2.486 0     8.715 0.195 30.931 1.389 ... 99.218\n",
       "   Phase pos comment           distanse radius Fe.Mg     Mg.      stage\n",
       "75 opx   42  1002-9-1C-1_Line1 84       -196   0.2524093 79.84610 9    \n",
       "76 opx   43  1002-9-1C-1_Line1 86       -194   0.2398312 80.65614 9    \n",
       "77 opx   44  1002-9-1C-1_Line1 88       -192   0.2124772 82.47578 9    \n",
       "78 opx   45  1002-9-1C-1_Line1 90       -190   0.1918323 83.90443 9    \n",
       "79 opx   46  1002-9-1C-1_Line1 92       -188   0.1581349 86.34573 9    \n",
       "   cordinate\n",
       "75 l        \n",
       "76 l        \n",
       "77 l        \n",
       "78 l        \n",
       "79 l        "
      ]
     },
     "metadata": {},
     "output_type": "display_data"
    }
   ],
   "source": [
    "df %>%\n",
    "    subset(comment == \"1002-9-1C-1_Line1\") %>%\n",
    "    head(5) "
   ]
  },
  {
   "cell_type": "code",
   "execution_count": 10,
   "metadata": {},
   "outputs": [
    {
     "data": {
      "image/png": "[encoded data removed]",
      "text/plain": [
       "plot without title"
      ]
     },
     "metadata": {},
     "output_type": "display_data"
    }
   ],
   "source": [
    "df %>%\n",
    "    subset(comment == \"1002-9-1C-1_Line1\") %>%\n",
    "    .$Cr2O3 -> y\n",
    "\n",
    "df %>% \n",
    "    subset(comment == \"1002-9-1C-1_Line1\") %>% \n",
    "    .$radius -> radius\n",
    "\n",
    "lambda <- 0.1\n",
    "\n",
    "y %>%\n",
    "    fusedlasso1d %>%\n",
    "    coef(lambda=lambda) %>%\n",
    "    tee(function(coef){\n",
    "        plot(radius, y)\n",
    "        lines(radius, coef$beta)\n",
    "    }) %>%\n",
    "    invisible\n",
    "    "
   ]
  },
  {
   "cell_type": "code",
   "execution_count": 12,
   "metadata": {},
   "outputs": [
    {
     "data": {
      "image/png": "[encoded data removed]",
      "text/plain": [
       "plot without title"
      ]
     },
     "metadata": {},
     "output_type": "display_data"
    }
   ],
   "source": [
    "df %>%\n",
    "    subset(comment == \"1002-9-1C-1_Line1\") %>%\n",
    "    .$Fe.Mg -> y\n",
    "\n",
    "df %>% \n",
    "    subset(comment == \"1002-9-1C-1_Line1\") %>% \n",
    "    .$radius -> radius\n",
    "\n",
    "lambda <- 0.1\n",
    "\n",
    "y %>%\n",
    "    fusedlasso1d %>%\n",
    "    coef(lambda=lambda) %>%\n",
    "    tee(function(coef){\n",
    "        plot(radius, y)\n",
    "        lines(radius, coef$beta)\n",
    "    }) %>%\n",
    "    invisible"
   ]
  },
  {
   "cell_type": "markdown",
   "metadata": {},
   "source": [
    "## トレンドフィルター\n",
    "\n",
    "例えば, 複数の直線が連結したものとしてプロファイルにフィッティング\n",
    "\n",
    "```r\n",
    "trandfilter(y, ord = 1) # ord = order of polynominal function\n",
    "```"
   ]
  },
  {
   "cell_type": "code",
   "execution_count": 13,
   "metadata": {},
   "outputs": [
    {
     "data": {
      "image/png": "[encoded data removed]",
      "text/plain": [
       "Plot with title \"Trend filter\""
      ]
     },
     "metadata": {},
     "output_type": "display_data"
    }
   ],
   "source": [
    "df %>%\n",
    "    subset(comment == \"1002-9-1C-1_Line1\") %>%\n",
    "    .$Cr2O3 -> y\n",
    "\n",
    "df %>% \n",
    "    subset(comment == \"1002-9-1C-1_Line1\") %>% \n",
    "    .$radius -> radius\n",
    "\n",
    "lambda <- 0.1\n",
    "\n",
    "y %>%\n",
    "    trendfilter(ord=1) %>%\n",
    "    coef(lambda=lambda) %>%\n",
    "    tee(function(coef){\n",
    "        plot(radius, y, main=\"Trend filter\")\n",
    "        lines(radius, coef$beta)\n",
    "    }) %>%\n",
    "    invisible"
   ]
  },
  {
   "cell_type": "markdown",
   "metadata": {},
   "source": [
    "### Cross validation"
   ]
  },
  {
   "cell_type": "code",
   "execution_count": 30,
   "metadata": {},
   "outputs": [
    {
     "name": "stdout",
     "output_type": "stream",
     "text": [
      "Fold 1 ... Fold 2 ... Fold 3 ... Fold 4 ... Fold 5 ... \n",
      "[1] 0.009998901\n"
     ]
    },
    {
     "data": {
      "image/png": "[encoded data removed]",
      "text/plain": [
       "plot without title"
      ]
     },
     "metadata": {},
     "output_type": "display_data"
    }
   ],
   "source": [
    "df %>%\n",
    "    subset(comment == \"1002-9-1C-1_Line1\") %>%\n",
    "    .$Cr2O3 -> y\n",
    "\n",
    "df %>% \n",
    "    subset(comment == \"1002-9-1C-1_Line1\") %>% \n",
    "    .$radius -> radius\n",
    "\n",
    "y %>%\n",
    "    trendfilter(ord=1) %>%\n",
    "    cv.trendfilter %>%\n",
    "    tee(function(cv){\n",
    "        print(cv$lambda.1se)\n",
    "        y %>%\n",
    "            trendfilter(ord=1) %>%\n",
    "            coef(lambda=cv$lambda.1se) %>%\n",
    "            tee(function(coef){\n",
    "                plot(radius, y)\n",
    "                lines(radius, coef$beta)\n",
    "            }) %>% invisible\n",
    "            #plot(,x=radius, lambda=cv$lambda.1se) %>%\n",
    "            #invisible\n",
    "    }) %>%\n",
    "    invisible\n"
   ]
  }
 ],
 "metadata": {
  "kernelspec": {
   "display_name": "R",
   "language": "R",
   "name": "ir"
  },
  "language_info": {
   "codemirror_mode": "r",
   "file_extension": ".r",
   "mimetype": "text/x-r-source",
   "name": "R",
   "pygments_lexer": "r",
   "version": "3.4.1"
  },
  "toc": {
   "nav_menu": {},
   "number_sections": true,
   "sideBar": true,
   "skip_h1_title": false,
   "toc_cell": false,
   "toc_position": {},
   "toc_section_display": "block",
   "toc_window_display": true
  }
 },
 "nbformat": 4,
 "nbformat_minor": 2
}
