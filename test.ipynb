{
 "cells": [
  {
   "cell_type": "markdown",
   "metadata": {},
   "source": [
    "# test of multiCrystallization"
   ]
  },
  {
   "cell_type": "code",
   "execution_count": 1,
   "metadata": {},
   "outputs": [
    {
     "name": "stdout",
     "output_type": "stream",
     "text": [
      "{ Phase: \n",
      "   { [Function: Phase]\n",
      "     cationNum: \n",
      "      { SiO2: 1,\n",
      "        TiO2: 1,\n",
      "        Al2O3: 2,\n",
      "        FeO: 1,\n",
      "        Fe2O3: 2,\n",
      "        MgO: 1,\n",
      "        CaO: 1,\n",
      "        Na2O: 2,\n",
      "        K2O: 2,\n",
      "        P2O5: 2,\n",
      "        MnO: 2,\n",
      "        Cr2O3: 2,\n",
      "        NiO: 1,\n",
      "        H2O: 2 },\n",
      "     getMolarValue: [Function],\n",
      "     __majorList: \n",
      "      [ 'SiO2',\n",
      "        'TiO2',\n",
      "        'Al2O3',\n",
      "        'FeO',\n",
      "        'Fe2O3',\n",
      "        'MgO',\n",
      "        'CaO',\n",
      "        'Na2O',\n",
      "        'K2O',\n",
      "        'P2O5',\n",
      "        'MnO',\n",
      "        'Cr2O3',\n",
      "        'NiO',\n",
      "        'H2O' ],\n",
      "     getMajorList: [Function],\n",
      "     __traceList: [],\n",
      "     setTraceList: [Function],\n",
      "     getTraceList: [Function],\n",
      "     Matrix: \n",
      "      { [Function: Matrix]\n",
      "        isMatrix: [Function],\n",
      "        multiple: [Function],\n",
      "        add: [Function],\n",
      "        inverse: [Function],\n",
      "        SOR: [Function],\n",
      "        transpose: [Function] },\n",
      "     isPhase: [Function],\n",
      "     getMixture: [Function],\n",
      "     thermometer: \n",
      "      { Sugawara2000: [Function],\n",
      "        liquidusDropMG2008: [Function],\n",
      "        olivineSpinelBs1991: [Function] },\n",
      "     oxygenFugacity: { olivineSpinelBs1991: [Function] },\n",
      "     partitioningCoefficient: { olivine: [Object], orthopyroxene: [Object], spinel: [Object] },\n",
      "     exchangePartitioningCoefficient: { olivine: [Object], orthopyroxene: [Object], spinel: {} },\n",
      "     transformProfile: \n",
      "      { byEqualStep: [Function: byEqualStep],\n",
      "        byRadius: [Function: byRadius] },\n",
      "     solver: \n",
      "      { opx_melt: [Function: opx_melt],\n",
      "        olivine_melt: [Function: olivine_melt],\n",
      "        spinel_melt: [Function: spinel_melt] },\n",
      "     solve: [Function],\n",
      "     SOR: [Function],\n",
      "     yieldEquilibriumCompo: [Function],\n",
      "     transformSectionToEqualDivision: [Function],\n",
      "     formatProfile: [Function],\n",
      "     transformSectionToEqualStep: [Function],\n",
      "     transformProfileByRadius: [Function],\n",
      "     divideProfileEqualStep: [Function] },\n",
      "  Solid: \n",
      "   { [Function: Solid]\n",
      "     isSolid: [Function],\n",
      "     compensateFe: { spinel: [Function: spinel] } },\n",
      "  Liquid: { [Function: Liquid] isLiquid: [Function] } }\n",
      "{ setH2O: [Function: setH2O],\n",
      "  setFe2Ratio: [Function: setFe2Ratio],\n",
      "  compensateFe: [Function: compensateFe],\n",
      "  compo2atom: [Function: compo2atom],\n",
      "  differentiate: [Function: differentiate],\n",
      "  desolve: [Function: desolve] }\n"
     ]
    },
    {
     "data": {
      "text/plain": [
       "undefined"
      ]
     },
     "execution_count": 1,
     "metadata": {},
     "output_type": "execute_result"
    }
   ],
   "source": [
    "var phase=require(\"./js/multiCrystallization_v3.0.js\")\n",
    "console.log(phase)\n",
    "console.log(phase.Liquid.prototype)"
   ]
  },
  {
   "cell_type": "code",
   "execution_count": 2,
   "metadata": {},
   "outputs": [
    {
     "data": {
      "text/plain": [
       "undefined"
      ]
     },
     "execution_count": 2,
     "metadata": {},
     "output_type": "execute_result"
    }
   ],
   "source": [
    "const Phase = phase.Phase;\n",
    "const Solid = phase.Solid;\n",
    "const Liquid = phase.Liquid;"
   ]
  },
  {
   "cell_type": "code",
   "execution_count": 3,
   "metadata": {},
   "outputs": [
    {
     "data": {
      "text/plain": [
       "undefined"
      ]
     },
     "execution_count": 3,
     "metadata": {},
     "output_type": "execute_result"
    }
   ],
   "source": [
    "// メルト組成の辞書\n",
    "var meltComposition ={\n",
    "    primarySt1: {\n",
    "        compo: {'SiO2': 55.9, 'TiO2': 0.58, 'Al2O3': 13.1, 'FeO': 7.0, 'MgO': 13.7, 'CaO': 5.6, 'Na2O': 2.5, 'K2O': 1.5, 'Cr2O3': 0.103, 'NiO': 0.056\n",
    "\t\t},\n",
    "        var: {'SiO2': 0.16, 'TiO2': 0.000016, 'Al2O3': 0.01, 'FeO': 0.01, 'MgO': 0.04, 'CaO': 0.0016, 'Na2O': 0.0004, 'K2O': 0.0001, 'Cr2O3': 0.000004, 'NiO': 0.000025\n",
    "\t\t}\n",
    "\t},\n",
    "    \n",
    "    lava1:{\n",
    "        n: 3 ,\n",
    "        compo: {'SiO2': 60.6392452, 'TiO2': 0.6233885543333333, 'Al2O3': 17.80050316333333, 'FeO': 5.192515176333333, 'MgO': 3.6002363239999995, 'CaO': 5.740316906, 'Na2O': 3.9387378863333335, 'K2O': 1.46961789, 'Cr2O3': 0.005889931500000001, 'NiO': 0.0009925645} ,\n",
    "        stdev: {'SiO2': 0.9054627669715314, 'TiO2': 0.18158775440901703, 'Al2O3': 0.5975856997581853, 'FeO': 0.9684655614092651, 'MgO': 0.30473522731059177, 'CaO': 0.776219856952241, 'Na2O': 0.0523052463610681, 'K2O': 0.08368853866145104, 'Cr2O3': 0.0005993896696744949, 'NiO': 8.997863079920696e-05} ,\n",
    "        var: {'SiO2': 0.8198628223717417, 'TiO2': 0.032974112551309484, 'Al2O3': 0.35710866855548007, 'FeO': 0.9379255436357631, 'MgO': 0.09286355876403804, 'CaO': 0.6025172663269576, 'Na2O': 0.0027358387968920276, 'K2O': 0.007003771503289186, 'Cr2O3': 3.5926797611250003e-07, 'NiO': 8.096154000499996e-09}\n",
    "        },\n",
    "\n",
    "    lava2:{\n",
    "    n: 5 ,\n",
    "        compo: {'SiO2': 57.05524792599999, 'TiO2': 0.695661346, 'Al2O3': 15.946081716000004, 'FeO': 6.1457990612, 'MgO': 8.073419664, 'CaO': 7.0105598622, 'Na2O': 2.9663533128, 'K2O': 1.841271614, 'Cr2O3': 0.0702622588, 'NiO': 0.0175593428} ,\n",
    "        stdev: {'SiO2': 0.3953940708048375, 'TiO2': 0.03297561247199405, 'Al2O3': 0.566472419329574, 'FeO': 0.5550686354956154, 'MgO': 0.5017168494889157, 'CaO': 0.5195291548446643, 'Na2O': 0.12389566363599679, 'K2O': 0.14043315741432263, 'Cr2O3': 0.015404175500951184, 'NiO': 0.00595307569782274} ,\n",
    "        var: {'SiO2': 0.15633647122762084, 'TiO2': 0.0010873910179031296, 'Al2O3': 0.32089100186110076, 'FeO': 0.30810119011096426, 'MgO': 0.25171979706108333, 'CaO': 0.26991054273361126, 'Na2O': 0.015350135467804055, 'K2O': 0.019721471701355922, 'Cr2O3': 0.0002372886228641047, 'NiO': 3.54391102640077e-05}\n",
    "    },\n",
    "\n",
    "    lava4:{\n",
    "        n: 14 ,\n",
    "        compo: {'SiO2': 64.10687533714285, 'TiO2': 0.5214570932142857, 'Al2O3': 17.620830517142856, 'FeO': 4.260285199785715, 'MgO': 1.8713045274999998, 'CaO': 4.387409885142858, 'Na2O': 3.9893141384285715, 'K2O': 2.786146245857143, 'Cr2O3': 0.007411819083333333, 'NiO': 0.0018176292307692308} ,\n",
    "        stdev: {'SiO2': 1.7288248346394177, 'TiO2': 0.046204847000597266, 'Al2O3': 0.5655733398706294, 'FeO': 0.9264696341823442, 'MgO': 0.6312707873863302, 'CaO': 0.45792453992715776, 'Na2O': 0.18208406046697764, 'K2O': 0.13578439739124476, 'Cr2O3': 0.0037748044938751336, 'NiO': 0.0010618797877559832} ,\n",
    "        var: {'SiO2': 2.98883530886601, 'TiO2': 0.0021348878863486024, 'Al2O3': 0.3198732027724185, 'FeO': 0.8583459830619667, 'MgO': 0.3985028070073574, 'CaO': 0.20969488426749908, 'Na2O': 0.03315460507614197, 'K2O': 0.018437402574903478, 'Cr2O3': 1.4249148966979904e-05, 'NiO': 1.1275886836446922e-06}\n",
    "    },\n",
    "    \n",
    "    \n",
    "    \n",
    "    Osaka: {\n",
    "        compo: {'SiO2': 58.26137419, 'TiO2': 0.42667508200000004, 'Al2O3': 14.560951613333332, 'FeO': 5.923702363333334, 'MgO': 10.104966065, 'CaO': 6.648246951666667, 'Na2O': 2.556715807, 'K2O': 1.266186213, 'Cr2O3': 0, 'NiO': 0.025910582\n",
    "\t\t},\n",
    "        var: {'SiO2': 1.3390766407031225, 'TiO2': 0.0006959466098119924, 'Al2O3': 0.06548655826992572, 'FeO': 0.08311034740009528, 'MgO': 0.8483889995467541, 'CaO': 0.16059890229947943, 'Na2O': 0.016527288756192318, 'K2O': 0.010128055189443935, 'Cr2O3': 0, 'NiO': 3.0739598673904035e-05\n",
    "\t\t}\n",
    "\t},\n",
    "    \n",
    "    NBY_5: {\n",
    "        compo: {\n",
    "            SiO2: 56.92600126,\n",
    "            TiO2: 0.398083925,\n",
    "            Al2O3: 14.26977761,\n",
    "            FeO: 6.254648971,\n",
    "            MgO: 11.15655718,\n",
    "            CaO: 7.104266967,\n",
    "            Na2O: 2.408918109,\n",
    "            K2O: 1.224873615,\n",
    "            NiO: 0.032312202\n",
    "\t\t},\n",
    "        var: {\n",
    "            SiO2: 0,\n",
    "            TiO2: 0,\n",
    "            Al2O3: 0,\n",
    "            FeO: 0,\n",
    "            MgO: 0,\n",
    "            CaO: 0,\n",
    "            Na2O: 0,\n",
    "            K2O: 0,\n",
    "            NiO: 0\n",
    "\t\t}\n",
    "\t}\n",
    "}\n"
   ]
  },
  {
   "cell_type": "code",
   "execution_count": 4,
   "metadata": {},
   "outputs": [
    {
     "name": "stdout",
     "output_type": "stream",
     "text": [
      "true\n"
     ]
    },
    {
     "data": {
      "text/plain": [
       "undefined"
      ]
     },
     "execution_count": 4,
     "metadata": {},
     "output_type": "execute_result"
    }
   ],
   "source": [
    "console.log(this.hasOwnProperty(\"module\"))"
   ]
  },
  {
   "cell_type": "code",
   "execution_count": 4,
   "metadata": {},
   "outputs": [
    {
     "data": {
      "text/plain": [
       "undefined"
      ]
     },
     "execution_count": 4,
     "metadata": {},
     "output_type": "execute_result"
    }
   ],
   "source": [
    "var melt = new Liquid(\"melt\")\n",
    "var lava1 = new Liquid(\"lava1\")\n",
    "    .setComposition(meltComposition.lava1.compo)\n",
    "    .compo2atom()\n",
    "var lava2 = new Liquid(\"lava2\")\n",
    "    .setComposition(meltComposition.lava2.compo)\n",
    "    .compo2atom()"
   ]
  },
  {
   "cell_type": "code",
   "execution_count": 5,
   "metadata": {
    "scrolled": true
   },
   "outputs": [
    {
     "name": "stdout",
     "output_type": "stream",
     "text": [
      "{ type: 'liquid',\n",
      "  name: 'melt',\n",
      "  major: \n",
      "   { SiO2: 57.2,\n",
      "     TiO2: 0.67,\n",
      "     Al2O3: 15.24,\n",
      "     FeO: 6.8,\n",
      "     Fe2O3: 0,\n",
      "     MgO: 8.6,\n",
      "     CaO: 6.52,\n",
      "     Na2O: 2.9,\n",
      "     K2O: 1.74,\n",
      "     P2O5: 0,\n",
      "     MnO: 0,\n",
      "     Cr2O3: 0.081,\n",
      "     NiO: 0.025,\n",
      "     H2O: 3 },\n",
      "  trace: {},\n",
      "  major0: \n",
      "   { SiO2: 57.2,\n",
      "     TiO2: 0.67,\n",
      "     Al2O3: 15.24,\n",
      "     FeO: 6.8,\n",
      "     Fe2O3: 0,\n",
      "     MgO: 8.6,\n",
      "     CaO: 6.52,\n",
      "     Na2O: 2.9,\n",
      "     K2O: 1.74,\n",
      "     P2O5: 0,\n",
      "     MnO: 0,\n",
      "     Cr2O3: 0.081,\n",
      "     NiO: 0.025,\n",
      "     H2O: 3 },\n",
      "  atom: \n",
      "   { SiO2: 0.9523809523809524,\n",
      "     TiO2: 0.008385481852315394,\n",
      "     Al2O3: 0.14949970570924073,\n",
      "     FeO: 0.09465478841870824,\n",
      "     MgO: 0.21329365079365079,\n",
      "     Fe2O3: 0,\n",
      "     CaO: 0.11626248216833095,\n",
      "     Na2O: 0.0467817389901597,\n",
      "     K2O: 0.018471337579617834,\n",
      "     P2O5: 0,\n",
      "     MnO: 0,\n",
      "     Cr2O3: 0.0005329297980130272,\n",
      "     NiO: 0.0003347168295621904 },\n",
      "  profile: \n",
      "   { ascend: \n",
      "      { SiO2: [],\n",
      "        TiO2: [],\n",
      "        Al2O3: [],\n",
      "        FeO: [],\n",
      "        Fe2O3: [],\n",
      "        MgO: [],\n",
      "        CaO: [],\n",
      "        Na2O: [],\n",
      "        K2O: [],\n",
      "        P2O5: [],\n",
      "        MnO: [],\n",
      "        Cr2O3: [],\n",
      "        NiO: [],\n",
      "        H2O: [],\n",
      "        F: [],\n",
      "        T: [],\n",
      "        N: [],\n",
      "        P: [],\n",
      "        x: [] },\n",
      "     descend: \n",
      "      { SiO2: [],\n",
      "        TiO2: [],\n",
      "        Al2O3: [],\n",
      "        FeO: [],\n",
      "        Fe2O3: [],\n",
      "        MgO: [],\n",
      "        CaO: [],\n",
      "        Na2O: [],\n",
      "        K2O: [],\n",
      "        P2O5: [],\n",
      "        MnO: [],\n",
      "        Cr2O3: [],\n",
      "        NiO: [],\n",
      "        H2O: [],\n",
      "        F: [],\n",
      "        T: [],\n",
      "        N: [],\n",
      "        P: [],\n",
      "        x: [] } },\n",
      "  fFe2: 1 }\n"
     ]
    },
    {
     "data": {
      "text/plain": [
       "undefined"
      ]
     },
     "execution_count": 5,
     "metadata": {},
     "output_type": "execute_result"
    }
   ],
   "source": [
    "\n",
    "var melt0={\n",
    "    \"compo\":{\n",
    "        \"MgO\":8.6,\n",
    "        \"FeO\":6.8,\n",
    "        \"SiO2\":57.2,\n",
    "        \"TiO2\":0.67,\n",
    "        \"Al2O3\":15.24,\n",
    "        \"CaO\":6.52,\n",
    "        \"Na2O\":2.90,\n",
    "        \"K2O\":1.74,\n",
    "        \"Cr2O3\":0.081,\n",
    "        \"NiO\":0.025,\n",
    "        \"H2O\":3\n",
    "    },\n",
    "    \"H2O\":2\n",
    "};\n",
    "\n",
    "//melt.setH2O(melt0.H2O);\n",
    "\n",
    "melt.setComposition(melt0.compo)\n",
    "melt.compo2atom()\n",
    "console.log(melt)"
   ]
  },
  {
   "cell_type": "markdown",
   "metadata": {},
   "source": [
    "## $\\frac{Fe^{2+}}{Fe^{2+} + Fe^{3+}}$ 比の補正テスト\n",
    "\n",
    "$$\n",
    "    \\frac{ \\frac{FeO}{M_{FeO}} }{ \\frac{FeO}{M_{FeO}} + 2\\times \\frac{Fe2O3}{M_{Fe2O3}} } = r\n",
    "$$\n",
    "\n",
    "$$\n",
    "    SiO2 + TiO2 + Al2O3 + FeO + Fe2O3 + MgO + MnO + CaO + Na2O + K2O + P2O5 + Cr2O3 + NiO = 100\n",
    "$$"
   ]
  },
  {
   "cell_type": "code",
   "execution_count": 6,
   "metadata": {},
   "outputs": [
    {
     "name": "stdout",
     "output_type": "stream",
     "text": [
      "69.2627802690583\n",
      "{ SiO2: 0.9523809523809524,\n",
      "  TiO2: 0.008385481852315394,\n",
      "  Al2O3: 0.14949970570924073,\n",
      "  FeO: 0.09465478841870824,\n",
      "  MgO: 0.21329365079365079,\n",
      "  Fe2O3: 0,\n",
      "  CaO: 0.11626248216833095,\n",
      "  Na2O: 0.0467817389901597,\n",
      "  K2O: 0.018471337579617834,\n",
      "  P2O5: 0,\n",
      "  MnO: 0,\n",
      "  Cr2O3: 0.0005329297980130272,\n",
      "  NiO: 0.0003347168295621904 }\n",
      "69.2627802690583\n",
      "{ SiO2: 0.9523809523809524,\n",
      "  TiO2: 0.008385481852315394,\n",
      "  Al2O3: 0.14949970570924073,\n",
      "  FeO: 0.09465478841870824,\n",
      "  MgO: 0.21329365079365079,\n",
      "  Fe2O3: 0,\n",
      "  CaO: 0.11626248216833095,\n",
      "  Na2O: 0.0467817389901597,\n",
      "  K2O: 0.018471337579617834,\n",
      "  P2O5: 0,\n",
      "  MnO: 0,\n",
      "  Cr2O3: 0.0005329297980130272,\n",
      "  NiO: 0.0003347168295621904 }\n",
      "76.29838053160294\n",
      "{ SiO2: 0.954519075109197,\n",
      "  TiO2: 0.008404307501117899,\n",
      "  Al2O3: 0.1498353368638157,\n",
      "  FeO: 0.06640710380562036,\n",
      "  MgO: 0.21377250119633054,\n",
      "  Fe2O3: 0.014230093672632936,\n",
      "  CaO: 0.11652349479667551,\n",
      "  Na2O: 0.046886765344531456,\n",
      "  K2O: 0.018512806265652895,\n",
      "  P2O5: 0,\n",
      "  MnO: 0,\n",
      "  Cr2O3: 0.0005341262407924023,\n",
      "  NiO: 0.0003354682785060439 }\n"
     ]
    },
    {
     "data": {
      "text/plain": [
       "undefined"
      ]
     },
     "execution_count": 6,
     "metadata": {},
     "output_type": "execute_result"
    }
   ],
   "source": [
    "// \n",
    "melt.setFe2Ratio(1)\n",
    "melt.compo2atom()\n",
    "console.log(melt.getMgNumber())\n",
    "console.log(melt.atom)\n",
    "\n",
    "\n",
    "melt.setFe2Ratio(1)\n",
    "melt.compensateFe()\n",
    "console.log(melt.getMgNumber())\n",
    "console.log(melt.atom)\n",
    "\n",
    "\n",
    "melt.setFe2Ratio(0.7)\n",
    "melt.compensateFe()\n",
    "console.log(melt.getMgNumber())\n",
    "console.log(melt.atom)"
   ]
  },
  {
   "cell_type": "code",
   "execution_count": 6,
   "metadata": {},
   "outputs": [
    {
     "data": {
      "text/plain": [
       "true"
      ]
     },
     "execution_count": 6,
     "metadata": {},
     "output_type": "execute_result"
    }
   ],
   "source": [
    "var elements = {\n",
    "    \"SiO2\":0\n",
    "}\n",
    "\n",
    "elements.hasOwnProperty(\"SiO2\")"
   ]
  },
  {
   "cell_type": "markdown",
   "metadata": {},
   "source": [
    "- 温度計関数の使用"
   ]
  },
  {
   "cell_type": "code",
   "execution_count": 7,
   "metadata": {
    "scrolled": true
   },
   "outputs": [
    {
     "name": "stdout",
     "output_type": "stream",
     "text": [
      "96.52469999999998\n",
      "1124.8573744928121\n",
      "76.29838053160294\n",
      "1.6 1064.1034860958462\n",
      "1.8 1057.9109764958462\n",
      "2 1051.923191695846\n",
      "1.6 1151.1812379885268\n",
      "1.8 1144.9887283885269\n"
     ]
    },
    {
     "data": {
      "text/plain": [
       "undefined"
      ]
     },
     "execution_count": 7,
     "metadata": {},
     "output_type": "execute_result"
    }
   ],
   "source": [
    "var dryMeltT = Phase.thermometer.Sugawara2000.bind(melt)\n",
    "var liquidusDrop = Phase.thermometer.liquidusDropMG2008.bind(melt)\n",
    "\n",
    "var dryLava1T = Phase.thermometer.Sugawara2000.bind(lava1)\n",
    "var liquidusDropLava1 = Phase.thermometer.liquidusDropMG2008.bind(lava1)\n",
    "var dryLava2T = Phase.thermometer.Sugawara2000.bind(lava2)\n",
    "var liquidusDropLava2 = Phase.thermometer.liquidusDropMG2008.bind(lava2)\n",
    "\n",
    "console.log(liquidusDrop())\n",
    "var T = dryMeltT(0.0001) - liquidusDrop()\n",
    "console.log(T-273.15)\n",
    "console.log(melt.getMgNumber())\n",
    "\n",
    "for (let water of [1.6,1.8,2.0]){\n",
    "    console.log(water,dryLava1T(0.0001) - liquidusDropLava1(water) - 273.15)\n",
    "}\n",
    "for (let water of [1.6,1.8]){\n",
    "    console.log(water,dryLava2T(0.0001) - liquidusDropLava2(water) - 273.15)\n",
    "}"
   ]
  },
  {
   "cell_type": "markdown",
   "metadata": {},
   "source": [
    "## Opx phase の作成例\n",
    "\n",
    "- 分配係数のセット\n",
    "\n",
    "```` javasctipt\n",
    "opx.setKD(elementRatio,  func)\n",
    "opx.setD(element, func)\n",
    "\n",
    "````"
   ]
  },
  {
   "cell_type": "code",
   "execution_count": 12,
   "metadata": {
    "scrolled": true
   },
   "outputs": [
    {
     "name": "stdout",
     "output_type": "stream",
     "text": [
      "{ type: 'solid',\n",
      "  name: 'opx',\n",
      "  major: \n",
      "   { SiO2: 0,\n",
      "     TiO2: 0,\n",
      "     Al2O3: 0,\n",
      "     FeO: 0,\n",
      "     Fe2O3: 0,\n",
      "     MgO: 0,\n",
      "     CaO: 0,\n",
      "     Na2O: 0,\n",
      "     K2O: 0,\n",
      "     P2O5: 0,\n",
      "     MnO: 0,\n",
      "     Cr2O3: 0,\n",
      "     NiO: 0,\n",
      "     H2O: 0 },\n",
      "  trace: {},\n",
      "  major0: \n",
      "   { SiO2: 0,\n",
      "     TiO2: 0,\n",
      "     Al2O3: 0,\n",
      "     FeO: 0,\n",
      "     Fe2O3: 0,\n",
      "     MgO: 0,\n",
      "     CaO: 0,\n",
      "     Na2O: 0,\n",
      "     K2O: 0,\n",
      "     P2O5: 0,\n",
      "     MnO: 0,\n",
      "     Cr2O3: 0,\n",
      "     NiO: 0,\n",
      "     H2O: 0 },\n",
      "  atom: \n",
      "   { SiO2: 0,\n",
      "     TiO2: 0,\n",
      "     Al2O3: 0,\n",
      "     FeO: 0,\n",
      "     Fe2O3: 0,\n",
      "     MgO: 0,\n",
      "     CaO: 0,\n",
      "     Na2O: 0,\n",
      "     K2O: 0,\n",
      "     P2O5: 0,\n",
      "     MnO: 0,\n",
      "     Cr2O3: 0,\n",
      "     NiO: 0,\n",
      "     H2O: 0 },\n",
      "  profile: \n",
      "   { ascend: \n",
      "      { SiO2: [],\n",
      "        TiO2: [],\n",
      "        Al2O3: [],\n",
      "        FeO: [],\n",
      "        Fe2O3: [],\n",
      "        MgO: [],\n",
      "        CaO: [],\n",
      "        Na2O: [],\n",
      "        K2O: [],\n",
      "        P2O5: [],\n",
      "        MnO: [],\n",
      "        Cr2O3: [],\n",
      "        NiO: [],\n",
      "        H2O: [],\n",
      "        F: [],\n",
      "        T: [],\n",
      "        N: [],\n",
      "        P: [],\n",
      "        x: [] },\n",
      "     descend: \n",
      "      { SiO2: [],\n",
      "        TiO2: [],\n",
      "        Al2O3: [],\n",
      "        FeO: [],\n",
      "        Fe2O3: [],\n",
      "        MgO: [],\n",
      "        CaO: [],\n",
      "        Na2O: [],\n",
      "        K2O: [],\n",
      "        P2O5: [],\n",
      "        MnO: [],\n",
      "        Cr2O3: [],\n",
      "        NiO: [],\n",
      "        H2O: [],\n",
      "        F: [],\n",
      "        T: [],\n",
      "        N: [],\n",
      "        P: [],\n",
      "        x: [] } },\n",
      "  D: {},\n",
      "  KD: {},\n",
      "  solver: {},\n",
      "  answerVector: {} }\n"
     ]
    },
    {
     "data": {
      "text/plain": [
       "undefined"
      ]
     },
     "execution_count": 12,
     "metadata": {},
     "output_type": "execute_result"
    }
   ],
   "source": [
    "\n",
    "var opx = new Solid(\"opx\");\n",
    "\n",
    "console.log(opx)"
   ]
  },
  {
   "cell_type": "code",
   "execution_count": 9,
   "metadata": {
    "scrolled": true
   },
   "outputs": [
    {
     "name": "stdout",
     "output_type": "stream",
     "text": [
      "4\n",
      "0.09598148173664917\n",
      "0.22590270701887827\n",
      "0.155965385542821\n",
      "0.18224302046316943\n",
      "0.22590270701887827\n",
      "0.155965385542821\n",
      "0\n",
      "{ type: 'solid',\n",
      "  name: 'opx',\n",
      "  major: \n",
      "   { SiO2: 0,\n",
      "     TiO2: 0,\n",
      "     Al2O3: 0,\n",
      "     FeO: 0,\n",
      "     Fe2O3: 0,\n",
      "     MgO: 0,\n",
      "     CaO: 0,\n",
      "     Na2O: 0,\n",
      "     K2O: 0,\n",
      "     P2O5: 0,\n",
      "     MnO: 0,\n",
      "     Cr2O3: 0,\n",
      "     NiO: 0,\n",
      "     H2O: 0 },\n",
      "  trace: {},\n",
      "  major0: \n",
      "   { SiO2: 0,\n",
      "     TiO2: 0,\n",
      "     Al2O3: 0,\n",
      "     FeO: 0,\n",
      "     Fe2O3: 0,\n",
      "     MgO: 0,\n",
      "     CaO: 0,\n",
      "     Na2O: 0,\n",
      "     K2O: 0,\n",
      "     P2O5: 0,\n",
      "     MnO: 0,\n",
      "     Cr2O3: 0,\n",
      "     NiO: 0,\n",
      "     H2O: 0 },\n",
      "  atom: \n",
      "   { SiO2: 0,\n",
      "     TiO2: 0,\n",
      "     Al2O3: 0,\n",
      "     FeO: 0,\n",
      "     Fe2O3: 0,\n",
      "     MgO: 0,\n",
      "     CaO: 0,\n",
      "     Na2O: 0,\n",
      "     K2O: 0,\n",
      "     P2O5: 0,\n",
      "     MnO: 0,\n",
      "     Cr2O3: 0,\n",
      "     NiO: 0,\n",
      "     H2O: 0 },\n",
      "  profile: \n",
      "   { ascend: \n",
      "      { SiO2: [],\n",
      "        TiO2: [],\n",
      "        Al2O3: [],\n",
      "        FeO: [],\n",
      "        Fe2O3: [],\n",
      "        MgO: [],\n",
      "        CaO: [],\n",
      "        Na2O: [],\n",
      "        K2O: [],\n",
      "        P2O5: [],\n",
      "        MnO: [],\n",
      "        Cr2O3: [],\n",
      "        NiO: [],\n",
      "        H2O: [],\n",
      "        F: [],\n",
      "        T: [],\n",
      "        N: [],\n",
      "        P: [],\n",
      "        x: [] },\n",
      "     descend: \n",
      "      { SiO2: [],\n",
      "        TiO2: [],\n",
      "        Al2O3: [],\n",
      "        FeO: [],\n",
      "        Fe2O3: [],\n",
      "        MgO: [],\n",
      "        CaO: [],\n",
      "        Na2O: [],\n",
      "        K2O: [],\n",
      "        P2O5: [],\n",
      "        MnO: [],\n",
      "        Cr2O3: [],\n",
      "        NiO: [],\n",
      "        H2O: [],\n",
      "        F: [],\n",
      "        T: [],\n",
      "        N: [],\n",
      "        P: [],\n",
      "        x: [] } },\n",
      "  D: \n",
      "   { Cr2O3: [Function: FreiS2009],\n",
      "     NiO: [Function: NormanS2005],\n",
      "     Al2O3: [Function: bound myCompile],\n",
      "     CaO: [Function: bound myCompile],\n",
      "     TiO2: [Function: dummy] },\n",
      "  KD: { Fe_Mg: [Function: Beattie1993] },\n",
      "  solver: {},\n",
      "  answerVector: {} }\n"
     ]
    },
    {
     "data": {
      "text/plain": [
       "undefined"
      ]
     },
     "execution_count": 9,
     "metadata": {},
     "output_type": "execute_result"
    }
   ],
   "source": [
    "opx.setKD(\"Fe_Mg\",Phase.exchangePartitioningCoefficient.orthopyroxene.Fe_Mg.Beattie1993)\n",
    "    .setD(\"Cr2O3\",Phase.partitioningCoefficient.orthopyroxene.Cr2O3.FreiS2009)\n",
    "    .setD(\"NiO\",Phase.partitioningCoefficient.orthopyroxene.NiO.NormanS2005)\n",
    "    .setD(\"Al2O3\",Phase.partitioningCoefficient.orthopyroxene.Al2O3.myCompile.bind(melt))\n",
    "    .setD(\"CaO\",Phase.partitioningCoefficient.orthopyroxene.CaO.myCompile.bind(melt))\n",
    "    .setD(\"TiO2\",Phase.partitioningCoefficient.orthopyroxene.TiO2.dummy)\n",
    "\n",
    "console.log(opx.D.Cr2O3())\n",
    "console.log(opx.D.Al2O3(null,0))\n",
    "console.log(opx.D.Al2O3(null,1))\n",
    "console.log(opx.D.CaO())\n",
    "console.log(opx.D.CaO(null,1))\n",
    "console.log(opx.D.Al2O3(null,1))\n",
    "console.log(opx.D.CaO())\n",
    "console.log(opx.D.TiO2())\n",
    "\n",
    "console.log(opx)"
   ]
  },
  {
   "cell_type": "markdown",
   "metadata": {},
   "source": [
    "## Calculate equilibrium composition\n",
    "equilibrate()メソッドで平衡な組成を計算し，compoプロパティを更新する\n",
    "\n",
    "ソルバーは掃き出し法(solve()メソッド)とSOR(SOR()メソッド)で結果はおなじになるはずだが，SOR方はメルト組成によっては計算に失敗する．\n",
    "\n",
    "これは，係数行列の値がメルト組成に依存し，絶対値の最も大きな要素が対角要素以外に現れる事があるためである．\n",
    "ピボット選択と行入れ替えを実現すれば解決できる可能性がある．"
   ]
  },
  {
   "cell_type": "code",
   "execution_count": 10,
   "metadata": {},
   "outputs": [
    {
     "name": "stdout",
     "output_type": "stream",
     "text": [
      "{ major: \n",
      "   { SiO2: 55.38337145360355,\n",
      "     FeO: 5.3706096708602535,\n",
      "     MgO: 34.16620544546557,\n",
      "     TiO2: 0,\n",
      "     Al2O3: 3.4426431838675526,\n",
      "     CaO: 1.1881851232101301,\n",
      "     Cr2O3: 0.3239892646986958,\n",
      "     NiO: 0.12499585829424989,\n",
      "     Fe2O3: 0,\n",
      "     Na2O: 0,\n",
      "     K2O: 0,\n",
      "     P2O5: 0,\n",
      "     MnO: 0,\n",
      "     H2O: 0 },\n",
      "  trace: {} }\n",
      "0.08822284145646658\n",
      "0.08822284145646658\n",
      "{ major: \n",
      "   { SiO2: 55.38335426394795,\n",
      "     FeO: 5.370613385844559,\n",
      "     MgO: 34.166191820532305,\n",
      "     TiO2: 0,\n",
      "     Al2O3: 3.4426431838675526,\n",
      "     CaO: 1.1881851232101301,\n",
      "     Cr2O3: 0.3239892646986958,\n",
      "     NiO: 0.12499585829424989,\n",
      "     Fe2O3: 0,\n",
      "     Na2O: 0,\n",
      "     K2O: 0,\n",
      "     P2O5: 0,\n",
      "     MnO: 0,\n",
      "     H2O: 0 },\n",
      "  trace: {} }\n"
     ]
    },
    {
     "data": {
      "text/plain": [
       "undefined"
      ]
     },
     "execution_count": 10,
     "metadata": {},
     "output_type": "execute_result"
    }
   ],
   "source": [
    "\n",
    "opx.setSolver(\"melt\",Phase.solver.opx_melt.bind(melt)(\"solve\")).equilibrate(\"melt\",1200,1);\n",
    "console.log(opx.getComposition())\n",
    "\n",
    "console.log(melt.getFeMgRatio() * 0.284)\n",
    "console.log(opx.getFeMgRatio())\n",
    "\n",
    "opx.setSolver(\"melt\",Phase.solver.opx_melt.bind(melt)(\"SOR\")).equilibrate(\"melt\",1200,1);\n",
    "console.log(opx.getComposition())"
   ]
  },
  {
   "cell_type": "markdown",
   "metadata": {},
   "source": [
    "## Olivine の作成例"
   ]
  },
  {
   "cell_type": "code",
   "execution_count": 12,
   "metadata": {},
   "outputs": [
    {
     "data": {
      "text/plain": [
       "undefined"
      ]
     },
     "execution_count": 12,
     "metadata": {},
     "output_type": "execute_result"
    }
   ],
   "source": [
    "var olivine = new Solid(\"olivine\");"
   ]
  },
  {
   "cell_type": "code",
   "execution_count": 13,
   "metadata": {
    "scrolled": true
   },
   "outputs": [
    {
     "name": "stdout",
     "output_type": "stream",
     "text": [
      "0.303\n",
      "0\n",
      "0\n",
      "0\n",
      "1.2\n",
      "0\n",
      "0\n",
      "0\n",
      "{ type: 'solid',\n",
      "  name: 'olivine',\n",
      "  major: \n",
      "   { SiO2: 0,\n",
      "     TiO2: 0,\n",
      "     Al2O3: 0,\n",
      "     FeO: 0,\n",
      "     Fe2O3: 0,\n",
      "     MgO: 0,\n",
      "     CaO: 0,\n",
      "     Na2O: 0,\n",
      "     K2O: 0,\n",
      "     P2O5: 0,\n",
      "     MnO: 0,\n",
      "     Cr2O3: 0,\n",
      "     NiO: 0,\n",
      "     H2O: 0 },\n",
      "  trace: {},\n",
      "  major0: \n",
      "   { SiO2: 0,\n",
      "     TiO2: 0,\n",
      "     Al2O3: 0,\n",
      "     FeO: 0,\n",
      "     Fe2O3: 0,\n",
      "     MgO: 0,\n",
      "     CaO: 0,\n",
      "     Na2O: 0,\n",
      "     K2O: 0,\n",
      "     P2O5: 0,\n",
      "     MnO: 0,\n",
      "     Cr2O3: 0,\n",
      "     NiO: 0,\n",
      "     H2O: 0 },\n",
      "  atom: \n",
      "   { SiO2: 0,\n",
      "     TiO2: 0,\n",
      "     Al2O3: 0,\n",
      "     FeO: 0,\n",
      "     Fe2O3: 0,\n",
      "     MgO: 0,\n",
      "     CaO: 0,\n",
      "     Na2O: 0,\n",
      "     K2O: 0,\n",
      "     P2O5: 0,\n",
      "     MnO: 0,\n",
      "     Cr2O3: 0,\n",
      "     NiO: 0,\n",
      "     H2O: 0 },\n",
      "  profile: \n",
      "   { ascend: \n",
      "      { SiO2: [],\n",
      "        TiO2: [],\n",
      "        Al2O3: [],\n",
      "        FeO: [],\n",
      "        Fe2O3: [],\n",
      "        MgO: [],\n",
      "        CaO: [],\n",
      "        Na2O: [],\n",
      "        K2O: [],\n",
      "        P2O5: [],\n",
      "        MnO: [],\n",
      "        Cr2O3: [],\n",
      "        NiO: [],\n",
      "        H2O: [],\n",
      "        F: [],\n",
      "        T: [],\n",
      "        N: [],\n",
      "        P: [],\n",
      "        x: [] },\n",
      "     descend: \n",
      "      { SiO2: [],\n",
      "        TiO2: [],\n",
      "        Al2O3: [],\n",
      "        FeO: [],\n",
      "        Fe2O3: [],\n",
      "        MgO: [],\n",
      "        CaO: [],\n",
      "        Na2O: [],\n",
      "        K2O: [],\n",
      "        P2O5: [],\n",
      "        MnO: [],\n",
      "        Cr2O3: [],\n",
      "        NiO: [],\n",
      "        H2O: [],\n",
      "        F: [],\n",
      "        T: [],\n",
      "        N: [],\n",
      "        P: [],\n",
      "        x: [] } },\n",
      "  D: \n",
      "   { Cr2O3: [Function: FreiS2009],\n",
      "     NiO: [Function: NormanS2005],\n",
      "     Al2O3: [Function: bound myCompile],\n",
      "     CaO: [Function: bound myCompile],\n",
      "     TiO2: [Function: dummy] },\n",
      "  KD: { Fe_Mg: [Function: Beattie1993] },\n",
      "  solver: {},\n",
      "  answerVector: {} }\n"
     ]
    },
    {
     "data": {
      "text/plain": [
       "undefined"
      ]
     },
     "execution_count": 13,
     "metadata": {},
     "output_type": "execute_result"
    }
   ],
   "source": [
    "olivine.setKD(\"Fe_Mg\",Phase.exchangePartitioningCoefficient.olivine.Fe_Mg.Beattie1993)\n",
    "    .setD(\"Cr2O3\",Phase.partitioningCoefficient.olivine.Cr2O3.FreiS2009)\n",
    "    .setD(\"NiO\",Phase.partitioningCoefficient.olivine.NiO.NormanS2005)\n",
    "    .setD(\"Al2O3\",Phase.partitioningCoefficient.olivine.Al2O3.myCompile.bind(melt))\n",
    "    .setD(\"CaO\",Phase.partitioningCoefficient.olivine.CaO.myCompile.bind(melt))\n",
    "    .setD(\"TiO2\",Phase.partitioningCoefficient.olivine.TiO2.dummy)\n",
    "\n",
    "console.log(olivine.KD.Fe_Mg())\n",
    "console.log(olivine.D.Al2O3(null,1))\n",
    "console.log(olivine.D.CaO())\n",
    "console.log(olivine.D.CaO(null,1))\n",
    "console.log(olivine.D.Cr2O3())\n",
    "console.log(olivine.D.Al2O3(null,1))\n",
    "console.log(olivine.D.CaO())\n",
    "console.log(olivine.D.TiO2())\n",
    "\n",
    "console.log(olivine)"
   ]
  },
  {
   "cell_type": "code",
   "execution_count": 14,
   "metadata": {},
   "outputs": [
    {
     "name": "stdout",
     "output_type": "stream",
     "text": [
      "{ major: \n",
      "   { SiO2: 40.39325994804831,\n",
      "     FeO: 11.453449807046756,\n",
      "     MgO: 47.80609024490494,\n",
      "     TiO2: 0,\n",
      "     Al2O3: 0,\n",
      "     CaO: 0,\n",
      "     Cr2O3: 0.0972,\n",
      "     NiO: 0.25,\n",
      "     Fe2O3: 0,\n",
      "     Na2O: 0,\n",
      "     K2O: 0,\n",
      "     P2O5: 0,\n",
      "     MnO: 0,\n",
      "     H2O: 0 },\n",
      "  trace: {} }\n",
      "88.14732377657523\n",
      "0.13446439115346764\n",
      "0.13446439115346762\n"
     ]
    },
    {
     "data": {
      "text/plain": [
       "undefined"
      ]
     },
     "execution_count": 14,
     "metadata": {},
     "output_type": "execute_result"
    }
   ],
   "source": [
    "olivine.setSolver(\"melt\",Phase.solver.olivine_melt.bind(melt)()).equilibrate(\"melt\",1200,1);\n",
    "console.log(olivine.getComposition())\n",
    "\n",
    "console.log(olivine.getMgNumber())\n",
    "console.log(melt.getFeMgRatio()*0.303)\n",
    "console.log(olivine.getFeMgRatio())"
   ]
  },
  {
   "cell_type": "markdown",
   "metadata": {},
   "source": [
    "## Spinel の作成例"
   ]
  },
  {
   "cell_type": "code",
   "execution_count": 16,
   "metadata": {},
   "outputs": [
    {
     "data": {
      "text/plain": [
       "undefined"
      ]
     },
     "execution_count": 16,
     "metadata": {},
     "output_type": "execute_result"
    }
   ],
   "source": [
    "var spinel = new Solid(\"spinel\");"
   ]
  },
  {
   "cell_type": "code",
   "execution_count": 17,
   "metadata": {},
   "outputs": [
    {
     "name": "stdout",
     "output_type": "stream",
     "text": [
      "130\n",
      "2\n"
     ]
    },
    {
     "data": {
      "text/plain": [
       "undefined"
      ]
     },
     "execution_count": 17,
     "metadata": {},
     "output_type": "execute_result"
    }
   ],
   "source": [
    "spinel.setD(\"Cr2O3\",Phase.partitioningCoefficient.spinel.Cr2O3.LieS2008)\n",
    "    .setD(\"NiO\",Phase.partitioningCoefficient.spinel.NiO.LieS2008);\n",
    "\n",
    "console.log(spinel.D.Cr2O3())\n",
    "console.log(spinel.D.NiO())\n"
   ]
  },
  {
   "cell_type": "code",
   "execution_count": 18,
   "metadata": {},
   "outputs": [
    {
     "name": "stdout",
     "output_type": "stream",
     "text": [
      "undefined\n",
      "{ SiO2: 0,\n",
      "  TiO2: 0,\n",
      "  Al2O3: 0,\n",
      "  FeO: 0,\n",
      "  MgO: 0,\n",
      "  Fe2O3: 0,\n",
      "  CaO: 0,\n",
      "  Na2O: 0,\n",
      "  K2O: 0,\n",
      "  P2O5: 0,\n",
      "  MnO: 0,\n",
      "  Cr2O3: 0.06928087374169353,\n",
      "  NiO: 0.0006694336591243808 }\n"
     ]
    },
    {
     "data": {
      "text/plain": [
       "undefined"
      ]
     },
     "execution_count": 18,
     "metadata": {},
     "output_type": "execute_result"
    }
   ],
   "source": [
    "spinel.setSolver(\"melt\",Phase.solver.spinel_melt.bind(melt)()).equilibrate(\"melt\",1200,1);\n",
    "console.log(spinel.compo)\n",
    "spinel.compo2atom();\n",
    "console.log(spinel.atom)"
   ]
  },
  {
   "cell_type": "markdown",
   "metadata": {},
   "source": [
    "## Differentiation\n",
    "メルトの含水量も含めて結晶分別がシミュレートされる\n",
    "\n",
    "- test date: 2017.7.18 passed\n",
    "- test date: 2017.10.24 passed (v.2)"
   ]
  },
  {
   "cell_type": "code",
   "execution_count": 19,
   "metadata": {},
   "outputs": [
    {
     "name": "stdout",
     "output_type": "stream",
     "text": [
      "{ major: \n",
      "   { SiO2: 57.2,\n",
      "     TiO2: 0.67,\n",
      "     Al2O3: 15.24,\n",
      "     FeO: 6.8,\n",
      "     Fe2O3: 0,\n",
      "     MgO: 8.6,\n",
      "     CaO: 6.52,\n",
      "     Na2O: 2.9,\n",
      "     K2O: 1.74,\n",
      "     P2O5: 0,\n",
      "     MnO: 0,\n",
      "     Cr2O3: 0.081,\n",
      "     NiO: 0.025,\n",
      "     H2O: 3 },\n",
      "  trace: {} }\n",
      "{ major: \n",
      "   { SiO2: 56.00101624970691,\n",
      "     TiO2: 0.6090909090909091,\n",
      "     Al2O3: 13.932789,\n",
      "     FeO: 7.129673083636943,\n",
      "     Fe2O3: 0,\n",
      "     MgO: 11.821094647907534,\n",
      "     CaO: 5.954277381818181,\n",
      "     Na2O: 2.6363636363636362,\n",
      "     K2O: 1.5818181818181818,\n",
      "     P2O5: 0,\n",
      "     MnO: 0,\n",
      "     Cr2O3: 0.08762727272727272,\n",
      "     NiO: 0.04261363636363636,\n",
      "     H2O: 2.727272727272727 },\n",
      "  trace: {} }\n",
      "{ major: \n",
      "   { SiO2: 57.2,\n",
      "     TiO2: 0.67,\n",
      "     Al2O3: 15.24,\n",
      "     FeO: 6.8,\n",
      "     Fe2O3: 0,\n",
      "     MgO: 8.6,\n",
      "     CaO: 6.519999999999999,\n",
      "     Na2O: 2.9,\n",
      "     K2O: 1.74,\n",
      "     P2O5: 0,\n",
      "     MnO: 0,\n",
      "     Cr2O3: 0.08099999999999999,\n",
      "     NiO: 0.024999999999999998,\n",
      "     H2O: 3 },\n",
      "  trace: {} }\n",
      "\n"
     ]
    },
    {
     "data": {
      "text/plain": [
       "undefined"
      ]
     },
     "execution_count": 19,
     "metadata": {},
     "output_type": "execute_result"
    }
   ],
   "source": [
    "console.log(melt.getComposition());\n",
    "console.log(melt.differentiate([{phase:opx,f:0.25},{phase:olivine,f:0.75}],0.1).getComposition());\n",
    "console.log(melt.differentiate([{phase:opx,f:0.25},{phase:olivine,f:0.75}],-0.1/1.1).getComposition());\n",
    "\n",
    "console.log()"
   ]
  },
  {
   "cell_type": "code",
   "execution_count": 18,
   "metadata": {},
   "outputs": [
    {
     "name": "stdout",
     "output_type": "stream",
     "text": [
      "{ a: 0, b: { c: 3, d: 4 } }\n",
      "{ a: 1, b: { c: 3, d: 4 } }\n",
      "{ a: 1, b: { c: 3, d: 3 } }\n"
     ]
    },
    {
     "data": {
      "text/plain": [
       "undefined"
      ]
     },
     "execution_count": 18,
     "metadata": {},
     "output_type": "execute_result"
    }
   ],
   "source": [
    "a = {a:1,b:{c:3,d:4}}\n",
    "b = a\n",
    "c = JSON.parse(JSON.stringify(a))\n",
    "a.a=0\n",
    "console.log(b)\n",
    "console.log(c)\n",
    "c.b.d=3\n",
    "console.log(c)"
   ]
  },
  {
   "cell_type": "code",
   "execution_count": null,
   "metadata": {
    "collapsed": true
   },
   "outputs": [],
   "source": []
  }
 ],
 "metadata": {
  "kernelspec": {
   "display_name": "Javascript (Node.js)",
   "language": "javascript",
   "name": "javascript"
  },
  "language_info": {
   "file_extension": ".js",
   "mimetype": "application/javascript",
   "name": "javascript",
   "version": "8.2.1"
  },
  "toc": {
   "nav_menu": {},
   "number_sections": true,
   "sideBar": true,
   "skip_h1_title": false,
   "toc_cell": false,
   "toc_position": {},
   "toc_section_display": "block",
   "toc_window_display": false
  }
 },
 "nbformat": 4,
 "nbformat_minor": 1
}
